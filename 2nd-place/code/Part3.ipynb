{
 "metadata": {
  "name": "",
  "signature": "sha256:bfabb34764befe4c039f87745aa2e512104b232589bbcc02fb85c3546a9efc22"
 },
 "nbformat": 3,
 "nbformat_minor": 0,
 "worksheets": [
  {
   "cells": [
    {
     "cell_type": "heading",
     "level": 1,
     "metadata": {},
     "source": [
      "Add all necessary libraries"
     ]
    },
    {
     "cell_type": "code",
     "collapsed": false,
     "input": [
      "%pylab inline\n",
      "\n",
      "import pandas as pd"
     ],
     "language": "python",
     "metadata": {},
     "outputs": [
      {
       "output_type": "stream",
       "stream": "stdout",
       "text": [
        "Populating the interactive namespace from numpy and matplotlib\n"
       ]
      }
     ],
     "prompt_number": 2
    },
    {
     "cell_type": "heading",
     "level": 1,
     "metadata": {},
     "source": [
      "Read Train and Test data file, drop columns with ID"
     ]
    },
    {
     "cell_type": "code",
     "collapsed": false,
     "input": [
      "dtrain = pd.read_csv('TrainingData.csv')\n",
      "dtrain.drop('Unnamed: 0', axis = 1, inplace = True)\n",
      "\n",
      "dtest = pd.read_csv('TestData.csv')\n",
      "dtest.drop('Unnamed: 0', axis = 1, inplace = True)"
     ],
     "language": "python",
     "metadata": {},
     "outputs": [
      {
       "output_type": "stream",
       "stream": "stderr",
       "text": [
        "/usr/local/lib/python2.7/dist-packages/pandas/io/parsers.py:1139: DtypeWarning: Columns (5,11) have mixed types. Specify dtype option on import or set low_memory=False.\n",
        "  data = self._reader.read(nrows)\n"
       ]
      }
     ],
     "prompt_number": 3
    },
    {
     "cell_type": "heading",
     "level": 1,
     "metadata": {},
     "source": [
      "The next thing - create array with right labels of Train data, and replace all NANs. For numerical value to -999, -999999999, drop all numerical columns"
     ]
    },
    {
     "cell_type": "code",
     "collapsed": false,
     "input": [
      "names = ['Function', 'Object_Type', 'Operating_Status', 'Position_Type', 'Pre_K', 'Reporting', 'Sharing', 'Student_Type', 'Use']\n",
      "\n",
      "labs = []\n",
      "for i in range(9):\n",
      "    labs.append(array(pd.get_dummies(dtrain[names[i]])))\n",
      "\n",
      "allabs = labs[0]\n",
      "for i in arange(1, 9, 1):\n",
      "    allabs = np.hstack((allabs, labs[i]))\n",
      "    \n",
      "dtrain.drop(names, axis = 1, inplace = True)\n",
      "dtrain.drop(['FTE', 'Total'], axis = 1, inplace = True)\n",
      "dtrain.fillna('NAN', inplace = True)\n",
      "\n",
      "dtest.drop(['FTE', 'Total'], axis = 1, inplace = True)\n",
      "dtest.fillna('NAN', inplace = True)"
     ],
     "language": "python",
     "metadata": {},
     "outputs": [],
     "prompt_number": 4
    },
    {
     "cell_type": "heading",
     "level": 1,
     "metadata": {},
     "source": [
      "Create new column 'ALL' - it consists of all concatenated class columns. Create it for train and test"
     ]
    },
    {
     "cell_type": "code",
     "collapsed": false,
     "input": [
      "cols = dtrain.columns\n",
      "\n",
      "dtrain['ALL'] = ''\n",
      "dtest['ALL'] = ''\n",
      "\n",
      "for col in cols:\n",
      "    dtrain['ALL'] = dtrain['ALL'] + ' ' + dtrain[col]\n",
      "    dtest['ALL'] = dtest['ALL'] + ' ' + dtest[col]"
     ],
     "language": "python",
     "metadata": {},
     "outputs": [],
     "prompt_number": 5
    },
    {
     "cell_type": "heading",
     "level": 1,
     "metadata": {},
     "source": [
      "Create new column 'ANSWER' - it consists of all concatenated answers. Create it for train"
     ]
    },
    {
     "cell_type": "code",
     "collapsed": false,
     "input": [
      "dtrain['ANSWER'] = ''\n",
      "\n",
      "for i in range(104):\n",
      "    dtrain['ANSWER'] = dtrain['ANSWER'] + ' ' + allabs[:, i].astype(str)"
     ],
     "language": "python",
     "metadata": {},
     "outputs": [],
     "prompt_number": 6
    },
    {
     "cell_type": "heading",
     "level": 1,
     "metadata": {},
     "source": [
      "For every intersecting column 'ALL' for train and test we check how many different answers in train it have. If only 1 - then we write it to map mapanswers"
     ]
    },
    {
     "cell_type": "code",
     "collapsed": false,
     "input": [
      "settraintest = set(dtrain['ALL']) & set(dtest['ALL'])\n",
      "mapanswers = {}\n",
      "\n",
      "k = 0\n",
      "for val in settraintest:\n",
      "    answers = array(dtrain['ANSWER'][dtrain['ALL'] == val])\n",
      "   \n",
      "    if len(set(answers)) == 1:\n",
      "        mapanswers[val] = answers[0]\n",
      "            \n",
      "    if k % 200 == 0:\n",
      "        print k\n",
      "        \n",
      "    k += 1"
     ],
     "language": "python",
     "metadata": {},
     "outputs": [
      {
       "output_type": "stream",
       "stream": "stdout",
       "text": [
        "0\n",
        "200"
       ]
      },
      {
       "output_type": "stream",
       "stream": "stdout",
       "text": [
        "\n",
        "400"
       ]
      },
      {
       "output_type": "stream",
       "stream": "stdout",
       "text": [
        "\n",
        "600"
       ]
      },
      {
       "output_type": "stream",
       "stream": "stdout",
       "text": [
        "\n",
        "800"
       ]
      },
      {
       "output_type": "stream",
       "stream": "stdout",
       "text": [
        "\n",
        "1000"
       ]
      },
      {
       "output_type": "stream",
       "stream": "stdout",
       "text": [
        "\n",
        "1200"
       ]
      },
      {
       "output_type": "stream",
       "stream": "stdout",
       "text": [
        "\n",
        "1400"
       ]
      },
      {
       "output_type": "stream",
       "stream": "stdout",
       "text": [
        "\n",
        "1600"
       ]
      },
      {
       "output_type": "stream",
       "stream": "stdout",
       "text": [
        "\n",
        "1800"
       ]
      },
      {
       "output_type": "stream",
       "stream": "stdout",
       "text": [
        "\n",
        "2000"
       ]
      },
      {
       "output_type": "stream",
       "stream": "stdout",
       "text": [
        "\n",
        "2200"
       ]
      },
      {
       "output_type": "stream",
       "stream": "stdout",
       "text": [
        "\n",
        "2400"
       ]
      },
      {
       "output_type": "stream",
       "stream": "stdout",
       "text": [
        "\n",
        "2600"
       ]
      },
      {
       "output_type": "stream",
       "stream": "stdout",
       "text": [
        "\n",
        "2800"
       ]
      },
      {
       "output_type": "stream",
       "stream": "stdout",
       "text": [
        "\n",
        "3000"
       ]
      },
      {
       "output_type": "stream",
       "stream": "stdout",
       "text": [
        "\n",
        "3200"
       ]
      },
      {
       "output_type": "stream",
       "stream": "stdout",
       "text": [
        "\n",
        "3400"
       ]
      },
      {
       "output_type": "stream",
       "stream": "stdout",
       "text": [
        "\n",
        "3600"
       ]
      },
      {
       "output_type": "stream",
       "stream": "stdout",
       "text": [
        "\n",
        "3800"
       ]
      },
      {
       "output_type": "stream",
       "stream": "stdout",
       "text": [
        "\n",
        "4000"
       ]
      },
      {
       "output_type": "stream",
       "stream": "stdout",
       "text": [
        "\n",
        "4200"
       ]
      },
      {
       "output_type": "stream",
       "stream": "stdout",
       "text": [
        "\n",
        "4400"
       ]
      },
      {
       "output_type": "stream",
       "stream": "stdout",
       "text": [
        "\n",
        "4600"
       ]
      },
      {
       "output_type": "stream",
       "stream": "stdout",
       "text": [
        "\n",
        "4800"
       ]
      },
      {
       "output_type": "stream",
       "stream": "stdout",
       "text": [
        "\n",
        "5000"
       ]
      },
      {
       "output_type": "stream",
       "stream": "stdout",
       "text": [
        "\n",
        "5200"
       ]
      },
      {
       "output_type": "stream",
       "stream": "stdout",
       "text": [
        "\n",
        "5400"
       ]
      },
      {
       "output_type": "stream",
       "stream": "stdout",
       "text": [
        "\n",
        "5600"
       ]
      },
      {
       "output_type": "stream",
       "stream": "stdout",
       "text": [
        "\n",
        "5800"
       ]
      },
      {
       "output_type": "stream",
       "stream": "stdout",
       "text": [
        "\n",
        "6000"
       ]
      },
      {
       "output_type": "stream",
       "stream": "stdout",
       "text": [
        "\n",
        "6200"
       ]
      },
      {
       "output_type": "stream",
       "stream": "stdout",
       "text": [
        "\n",
        "6400"
       ]
      },
      {
       "output_type": "stream",
       "stream": "stdout",
       "text": [
        "\n",
        "6600"
       ]
      },
      {
       "output_type": "stream",
       "stream": "stdout",
       "text": [
        "\n",
        "6800"
       ]
      },
      {
       "output_type": "stream",
       "stream": "stdout",
       "text": [
        "\n"
       ]
      }
     ],
     "prompt_number": 8
    },
    {
     "cell_type": "heading",
     "level": 1,
     "metadata": {},
     "source": [
      "Create array myanswers, where we write answers for all cases, described previously"
     ]
    },
    {
     "cell_type": "code",
     "collapsed": false,
     "input": [
      "myanswers = zeros((len(dstest), 104))\n",
      "goods = zeros(len(dstest))\n",
      "\n",
      "for i in range(len(dstest)):    \n",
      "    if dstest['ALL'][i] in mapanswers:        \n",
      "        myanswers[i, :] = [float(x) for x in mapanswers[dstest['ALL'][i]].split(' ')[1:]]\n",
      "        goods[i] = 1\n",
      "        \n",
      "    if i % 10000 == 0:\n",
      "        print i"
     ],
     "language": "python",
     "metadata": {},
     "outputs": [],
     "prompt_number": 9
    },
    {
     "cell_type": "heading",
     "level": 1,
     "metadata": {},
     "source": [
      "Load our models from part 1 and part 2"
     ]
    },
    {
     "cell_type": "code",
     "collapsed": false,
     "input": [
      "rf_model = array(pd.read_csv('RF_Model.csv').ix[:, 1:])\n",
      "log_model = array(pd.read_csv('Log_Model.csv').ix[:, 1:])"
     ],
     "language": "python",
     "metadata": {},
     "outputs": [],
     "prompt_number": 21
    },
    {
     "cell_type": "heading",
     "level": 1,
     "metadata": {},
     "source": [
      "Normalise our models"
     ]
    },
    {
     "cell_type": "code",
     "collapsed": false,
     "input": [
      "bpci = [range(37), range(37,48), range(48,51), range(51,76), range(76,79), range(79,82), range(82,87), range(87,96), range(96,104)]\n",
      "\n",
      "normed_rf_model = array(rf_model)\n",
      "for i in range(9):\n",
      "    normed_rf_model[:, bpci[i]] = rf_model[:, bpci[i]] / sum(rf_model[:, bpci[i]], axis = 1, keepdims = True)\n",
      "    \n",
      "normed_log_model = array(log_model)\n",
      "for i in range(9):\n",
      "    normed_log_model[:, bpci[i]] = log_model[:, bpci[i]] / sum(log_model[:, bpci[i]], axis = 1, keepdims = True)    "
     ],
     "language": "python",
     "metadata": {},
     "outputs": [],
     "prompt_number": 10
    },
    {
     "cell_type": "heading",
     "level": 1,
     "metadata": {},
     "source": [
      "Merge two models and replace answers in case of duplicates"
     ]
    },
    {
     "cell_type": "code",
     "collapsed": false,
     "input": [
      "final_model = 0.625 * normed_log_model + 0.375 * normed_rf_model\n",
      "\n",
      "final_model[goods == 1] = myanswers[goods == 1]"
     ],
     "language": "python",
     "metadata": {},
     "outputs": [],
     "prompt_number": 27
    },
    {
     "cell_type": "heading",
     "level": 1,
     "metadata": {},
     "source": [
      "Write our probability answers to csv file"
     ]
    },
    {
     "cell_type": "code",
     "collapsed": false,
     "input": [
      "dresult = pd.read_csv('SubmissionFormat.csv')\n",
      "dresult.ix[:, 1:] = final_model\n",
      "dresult.to_csv('Final_Model.csv', index = False)"
     ],
     "language": "python",
     "metadata": {},
     "outputs": [],
     "prompt_number": 31
    },
    {
     "cell_type": "heading",
     "level": 1,
     "metadata": {},
     "source": [
      "The end"
     ]
    }
   ],
   "metadata": {}
  }
 ]
}